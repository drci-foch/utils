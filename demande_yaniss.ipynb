{
 "cells": [
  {
   "cell_type": "code",
   "execution_count": 1,
   "metadata": {},
   "outputs": [
    {
     "name": "stdout",
     "output_type": "stream",
     "text": [
      "Excel file created: Batch3_lot2_17082023.xlsx\n"
     ]
    }
   ],
   "source": [
    "import glob\n",
    "import pandas as pd\n",
    "import os\n",
    "\n",
    "# Set the folder path where your Excel files are stored\n",
    "folder_path = 'P:/LameDIGILUT/Numerisation-2/Batch3_lot2_17082023'  \n",
    "output_file = 'P:/LameDIGILUT/Numerisation-2/Batch3_lot2_17082023.xlsx'  \n",
    "\n",
    "# Search for all Excel files in the folder\n",
    "excel_files = glob.glob(os.path.join(folder_path, '*'))\n",
    "\n",
    "# Extract just the file names without the full path\n",
    "file_names = [os.path.basename(file) for file in excel_files]\n",
    "\n",
    "# Convert the list of file names to a pandas DataFrame\n",
    "df = pd.DataFrame(file_names, columns=['File Name'])\n",
    "\n",
    "# Write the DataFrame to a new Excel file\n",
    "df.to_excel(output_file, index=False)\n",
    "\n",
    "print(f'Excel file created: {output_file}')"
   ]
  }
 ],
 "metadata": {
  "kernelspec": {
   "display_name": "Python 3.11.6 64-bit",
   "language": "python",
   "name": "python3"
  },
  "language_info": {
   "codemirror_mode": {
    "name": "ipython",
    "version": 3
   },
   "file_extension": ".py",
   "mimetype": "text/x-python",
   "name": "python",
   "nbconvert_exporter": "python",
   "pygments_lexer": "ipython3",
   "version": "3.11.6"
  },
  "orig_nbformat": 4,
  "vscode": {
   "interpreter": {
    "hash": "3408b9d0ef3ce5c7e111b1a90dc1fe87a52c80be0f3e1354ae85d9d26a4a01e4"
   }
  }
 },
 "nbformat": 4,
 "nbformat_minor": 2
}
