{
 "cells": [
  {
   "cell_type": "markdown",
   "metadata": {},
   "source": [
    "## Imports"
   ]
  },
  {
   "cell_type": "code",
   "execution_count": 1,
   "metadata": {},
   "outputs": [],
   "source": [
    "import os\n",
    "import time\n",
    "from selenium import webdriver\n",
    "from selenium.webdriver.common.by import By\n",
    "from selenium.webdriver.edge.service import Service\n",
    "from selenium.webdriver.edge.options import Options\n",
    "from importlib.metadata import requires, PackageNotFoundError"
   ]
  },
  {
   "cell_type": "markdown",
   "metadata": {},
   "source": [
    "## Functions"
   ]
  },
  {
   "cell_type": "code",
   "execution_count": 2,
   "metadata": {},
   "outputs": [],
   "source": [
    "def get_strict_dependencies(package_name):\n",
    "    try:\n",
    "        dependencies = requires(package_name)\n",
    "        if dependencies is None:\n",
    "            return []\n",
    "\n",
    "        # Extract just the package names, ignoring versions and conditions\n",
    "        strict_dependencies = [dep.split(';', 1)[0].split('>=')[0].split('==')[0].strip() for dep in dependencies if ';' not in dep]\n",
    "        return strict_dependencies\n",
    "\n",
    "    except PackageNotFoundError:\n",
    "        print(f\"Package {package_name} not found.\")\n",
    "        return []\n"
   ]
  },
  {
   "cell_type": "code",
   "execution_count": 3,
   "metadata": {},
   "outputs": [],
   "source": [
    "\n",
    "def is_download_finished(directory):\n",
    "    # Wait for the download to finish (no .tmp and .crdownload files)\n",
    "    while any([filename.endswith('.tmp') or filename.endswith('.crdownload') for filename in os.listdir(directory)]):\n",
    "        time.sleep(1)\n",
    "    return True\n"
   ]
  },
  {
   "cell_type": "code",
   "execution_count": 4,
   "metadata": {},
   "outputs": [],
   "source": [
    "def download_whl_files(package, driver, directory):\n",
    "    driver.get(f\"https://pypi.org/project/{package}/#files\")\n",
    "    time.sleep(3)  # Wait for the page to load\n",
    "\n",
    "    def download_and_wait(file_type):\n",
    "        xpath_expression = f\"//a[contains(@href, '{file_type}')]\"\n",
    "        if file_type == 'py3-none-any.whl':\n",
    "            xpath_expression = f\"//a[contains(@href, 'py3-none-any.whl') and not(contains(@href, 'win_amd64'))]\"\n",
    "\n",
    "        files = driver.find_elements(By.XPATH, xpath_expression)\n",
    "        for file in files:\n",
    "            file_url = file.get_attribute('href')\n",
    "            file_name = file_url.split('/')[-1]\n",
    "\n",
    "            if not os.path.exists(os.path.join(directory, file_name)):\n",
    "                print(f\"Downloading {file_type} file for {package} from: {file_url}\")\n",
    "                driver.get(file_url)\n",
    "                is_download_finished(directory)\n",
    "            else:\n",
    "                print(f\"File {file_name} already exists. Skipping download.\")\n",
    "\n",
    "    download_and_wait(f\"{python_version}-win_amd64.whl\")\n",
    "    download_and_wait('py3-none-any.whl')\n"
   ]
  },
  {
   "cell_type": "markdown",
   "metadata": {},
   "source": [
    "## Inputs for Python Package Downloader Script\n",
    "\n",
    "This script requires specific inputs to function correctly. Ensure you provide the following information before running the script:\n",
    "\n",
    "1. **Python Version of Your Project**\n",
    "   - Specify the Python version used in your project. \n",
    "   - This is necessary to download the correct `.whl` files compatible with your Python version.\n",
    "   - **Example**: `\"cp311\"` for Python 3.11.\n",
    "\n",
    "\n",
    "\n",
    "2. **Local Folder for `.whl` Files**\n",
    "   - Provide the path to the local directory where you want to save the downloaded `.whl` files.\n",
    "   - Ensure the script has write access to this folder.\n",
    "   - **Example**: `r\"C:\\Users\\benysar\\testing_data\\packages_stroke_occlusion\"`\n",
    "\n",
    "\n",
    "\n",
    "3. **List of Python Packages and Their Dependencies**\n",
    "   - Specify the Python packages you need to download, including any dependencies. Use the function `get_strict_dependencies` to easily access to the list of dependencies\n",
    "   - The script will attempt to download `.whl` files for each of these packages.\n",
    "   - **Example**: `[\"numpy\", \"pandas\"]`\n"
   ]
  },
  {
   "cell_type": "markdown",
   "metadata": {},
   "source": [
    "### Looking for dependencies"
   ]
  },
  {
   "cell_type": "code",
   "execution_count": 5,
   "metadata": {},
   "outputs": [
    {
     "name": "stdout",
     "output_type": "stream",
     "text": [
      "Strict dependencies for traitlets: []\n"
     ]
    }
   ],
   "source": [
    "package_name = \"traitlets\"\n",
    "print(f\"Strict dependencies for {package_name}: {get_strict_dependencies(package_name)}\")\n"
   ]
  },
  {
   "cell_type": "code",
   "execution_count": 7,
   "metadata": {},
   "outputs": [],
   "source": [
    "python_version = \"cp311\"\n",
    "dossier_local =\"C:\\\\Users\\\\benysar\\\\Desktop\\Github\\\\stroke-occlusion\\\\packages\"\n",
    "packages_to_download = [\"ipykernel\", 'comm','traitlets', 'debugpy', \n",
    "'ipython', 'backcall', 'decorator', 'jedi', 'parso','matplotlib-inline', 'pickleshare', 'prompt-toolkit', 'wcwidth', 'pygments', 'stack-data', 'executing', \n",
    "'asttokens', 'six', 'pure-eval', 'traitlets',\n",
    "'jupyter-client', 'jupyter-core', 'python-dateutil', 'pyzmq', 'tornado', 'traitlets', 'matplotlib-inline', \n",
    "'nest-asyncio', 'packaging', 'psutil', 'pyzmq', 'tornado', 'traitlets']\n"
   ]
  },
  {
   "cell_type": "code",
   "execution_count": 8,
   "metadata": {},
   "outputs": [],
   "source": [
    "# Configure Edge for Selenium with automatic download settings\n",
    "options = Options()\n",
    "options.use_chromium = True\n",
    "prefs = {\n",
    "    \"download.default_directory\": os.path.abspath(dossier_local),\n",
    "    \"download.prompt_for_download\": False,\n",
    "    \"download.directory_upgrade\": True,\n",
    "    \"safebrowsing.enabled\": True\n",
    "}\n",
    "options.add_experimental_option(\"prefs\", prefs)\n",
    "\n",
    "# Initialize the Edge driver\n",
    "edge_service = Service('C:/Users/benysar/Documents/edgedriver_win64/msedgedriver.exe')  \n",
    "driver = webdriver.Edge(service=edge_service, options=options)\n",
    "\n",
    "# Example usage\n",
    "for package in list(set(packages_to_download)):\n",
    "    download_whl_files(package, driver, dossier_local)\n",
    "driver.quit()"
   ]
  },
  {
   "cell_type": "code",
   "execution_count": null,
   "metadata": {},
   "outputs": [],
   "source": []
  }
 ],
 "metadata": {
  "kernelspec": {
   "display_name": "Python 3.11.6 64-bit",
   "language": "python",
   "name": "python3"
  },
  "language_info": {
   "codemirror_mode": {
    "name": "ipython",
    "version": 3
   },
   "file_extension": ".py",
   "mimetype": "text/x-python",
   "name": "python",
   "nbconvert_exporter": "python",
   "pygments_lexer": "ipython3",
   "version": "3.11.6"
  },
  "orig_nbformat": 4,
  "vscode": {
   "interpreter": {
    "hash": "3408b9d0ef3ce5c7e111b1a90dc1fe87a52c80be0f3e1354ae85d9d26a4a01e4"
   }
  }
 },
 "nbformat": 4,
 "nbformat_minor": 2
}
