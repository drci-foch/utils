{
 "cells": [
  {
   "cell_type": "markdown",
   "metadata": {},
   "source": [
    "## Imports"
   ]
  },
  {
   "cell_type": "code",
   "execution_count": 1,
   "metadata": {},
   "outputs": [],
   "source": [
    "import os\n",
    "import time\n",
    "from selenium import webdriver\n",
    "from selenium.webdriver.common.by import By\n",
    "from selenium.webdriver.edge.service import Service\n",
    "from selenium.webdriver.edge.options import Options\n",
    "from importlib.metadata import requires, PackageNotFoundError"
   ]
  },
  {
   "cell_type": "markdown",
   "metadata": {},
   "source": [
    "## Functions"
   ]
  },
  {
   "cell_type": "code",
   "execution_count": 2,
   "metadata": {},
   "outputs": [],
   "source": [
    "def get_strict_dependencies(package_name):\n",
    "    try:\n",
    "        dependencies = requires(package_name)\n",
    "        if dependencies is None:\n",
    "            return []\n",
    "\n",
    "        # Extract just the package names, ignoring versions and conditions\n",
    "        strict_dependencies = [dep.split(';', 1)[0].split('>=')[0].split('==')[0].strip() for dep in dependencies if ';' not in dep]\n",
    "        return strict_dependencies\n",
    "\n",
    "    except PackageNotFoundError:\n",
    "        print(f\"Package {package_name} not found.\")\n",
    "        return []\n"
   ]
  },
  {
   "cell_type": "code",
   "execution_count": null,
   "metadata": {},
   "outputs": [],
   "source": [
    "\n",
    "def is_download_finished(directory):\n",
    "    # Wait for the download to finish (no .tmp and .crdownload files)\n",
    "    while any([filename.endswith('.tmp') or filename.endswith('.crdownload') for filename in os.listdir(directory)]):\n",
    "        time.sleep(1)\n",
    "    return True\n"
   ]
  },
  {
   "cell_type": "code",
   "execution_count": null,
   "metadata": {},
   "outputs": [],
   "source": [
    "\n",
    "def download_whl_files(package, driver, directory):\n",
    "    driver.get(f\"https://pypi.org/project/{package}/#files\")\n",
    "    time.sleep(3)  # Wait for the page to load\n",
    "\n",
    "    def download_and_wait(file_type):\n",
    "        xpath_expression = f\"//a[contains(@href, '{file_type}')]\"\n",
    "        if file_type == 'py3-none-any.whl':\n",
    "            xpath_expression = f\"//a[contains(@href, 'py3-none-any.whl') and not(contains(@href, 'win_amd64'))]\"\n",
    "\n",
    "        files = driver.find_elements(By.XPATH, xpath_expression)\n",
    "        for file in files:\n",
    "            file_url = file.get_attribute('href')\n",
    "            print(f\"Downloading {file_type} file for {package} from: {file_url}\")\n",
    "            driver.get(file_url)\n",
    "            is_download_finished(directory)\n",
    "\n",
    "    download_and_wait(f\"{python_version}-win_amd64.whl\")\n",
    "    download_and_wait('py3-none-any.whl')"
   ]
  },
  {
   "cell_type": "markdown",
   "metadata": {},
   "source": [
    "## Inputs for Python Package Downloader Script\n",
    "\n",
    "This script requires specific inputs to function correctly. Ensure you provide the following information before running the script:\n",
    "\n",
    "1. **Python Version of Your Project**\n",
    "   - Specify the Python version used in your project. \n",
    "   - This is necessary to download the correct `.whl` files compatible with your Python version.\n",
    "   - **Example**: `\"cp311\"` for Python 3.11.\n",
    "\n",
    "\n",
    "\n",
    "2. **Local Folder for `.whl` Files**\n",
    "   - Provide the path to the local directory where you want to save the downloaded `.whl` files.\n",
    "   - Ensure the script has write access to this folder.\n",
    "   - **Example**: `r\"C:\\Users\\benysar\\testing_data\\packages_stroke_occlusion\"`\n",
    "\n",
    "\n",
    "\n",
    "3. **List of Python Packages and Their Dependencies**\n",
    "   - Specify the Python packages you need to download, including any dependencies. Use the function `get_strict_dependencies` to easily access to the list of dependencies\n",
    "   - The script will attempt to download `.whl` files for each of these packages.\n",
    "   - **Example**: `[\"numpy\", \"pandas\"]`\n"
   ]
  },
  {
   "cell_type": "markdown",
   "metadata": {},
   "source": [
    "### Looking for dependencies"
   ]
  },
  {
   "cell_type": "code",
   "execution_count": 4,
   "metadata": {},
   "outputs": [
    {
     "name": "stdout",
     "output_type": "stream",
     "text": [
      "Strict dependencies for pandas: ['python-dateutil', 'pytz', 'tzdata']\n"
     ]
    }
   ],
   "source": [
    "package_name = \"pandas\"\n",
    "print(f\"Strict dependencies for {package_name}: {get_strict_dependencies(package_name)}\")\n"
   ]
  },
  {
   "cell_type": "code",
   "execution_count": 4,
   "metadata": {},
   "outputs": [],
   "source": [
    "python_version = \"cp311\"\n",
    "dossier_local =\"./packages_stroke_occlusion\"\n",
    "packages_to_download = [ \"pandas\", \"numpy\", \"python-dateutil\", \"pytz\", \"tzdata\",\n",
    "\"scikit-learn\", \"scipy\",\"joblib\",\"threadpoolctl\",\n",
    "\"matplotlib\", 'contourpy', 'cycler', 'fonttools', 'kiwisolver', 'numpy', 'packaging', 'pillow', 'pyparsing', 'python-dateutil'\n",
    "\"torch\", \"filelock\", \"fsspec\",\"jinja2\",\"networkx\",\"sympy\",\"typing-extensions\",\n",
    "\"nibabel\", 'packaging',\n",
    "]"
   ]
  },
  {
   "cell_type": "code",
   "execution_count": 5,
   "metadata": {},
   "outputs": [
    {
     "name": "stdout",
     "output_type": "stream",
     "text": [
      "Downloading cp311-win_amd64.whl file for matplotlib from: https://files.pythonhosted.org/packages/26/5a/27fd341e4510257789f19a4b4be8bb90d1113b8f176c3dab562b4f21466e/matplotlib-3.8.2-cp311-cp311-win_amd64.whl\n",
      "Downloading cp311-win_amd64.whl file for scikit-learn from: https://files.pythonhosted.org/packages/4e/ba/ce9bd1cd4953336a0e213b29cb80bb11816f2a93de8c99f88ef0b446ad0c/scikit_learn-1.3.2-cp311-cp311-win_amd64.whl\n",
      "Downloading cp311-win_amd64.whl file for contourpy from: https://files.pythonhosted.org/packages/ca/2a/d197a412ec474391ee878b1218cf2fe9c6e963903755887fc5654c06636a/contourpy-1.2.0-cp311-cp311-win_amd64.whl\n",
      "Downloading cp311-win_amd64.whl file for pillow from: https://files.pythonhosted.org/packages/b1/38/31def4109acd4db10672df6f806b175c0d21458f845ddc0890e43238ba7c/Pillow-10.1.0-cp311-cp311-win_amd64.whl\n",
      "Downloading cp311-win_amd64.whl file for fonttools from: https://files.pythonhosted.org/packages/c4/d8/a68085e2da45aad6acebf512fe2d9fe783d6af3efad4a3b0d708783f891b/fonttools-4.46.0-cp311-cp311-win_amd64.whl\n",
      "Downloading py3-none-any.whl file for fonttools from: https://files.pythonhosted.org/packages/54/25/b97e6d612314b20ba5bcb8a67d3ba4c3f23037182acdfb87ca86def2aeba/fonttools-4.46.0-py3-none-any.whl\n",
      "Downloading py3-none-any.whl file for cycler from: https://files.pythonhosted.org/packages/e7/05/c19819d5e3d95294a6f5947fb9b9629efb316b96de511b418c53d245aae6/cycler-0.12.1-py3-none-any.whl\n",
      "Downloading py3-none-any.whl file for joblib from: https://files.pythonhosted.org/packages/10/40/d551139c85db202f1f384ba8bcf96aca2f329440a844f924c8a0040b6d02/joblib-1.3.2-py3-none-any.whl\n",
      "Downloading py3-none-any.whl file for jinja2 from: https://files.pythonhosted.org/packages/bc/c3/f068337a370801f372f2f8f6bad74a5c140f6fda3d9de154052708dd3c65/Jinja2-3.1.2-py3-none-any.whl\n",
      "Downloading cp311-win_amd64.whl file for numpy from: https://files.pythonhosted.org/packages/da/3c/3ff05c2855eee52588f489a4e607e4a61699a0742aa03ccf641c77f9eb0a/numpy-1.26.2-cp311-cp311-win_amd64.whl\n",
      "Downloading cp311-win_amd64.whl file for scipy from: https://files.pythonhosted.org/packages/43/d0/f3cd75b62e1b90f48dbf091261b2fc7ceec14a700e308c50f6a69c83d337/scipy-1.11.4-cp311-cp311-win_amd64.whl\n",
      "Downloading py3-none-any.whl file for sympy from: https://files.pythonhosted.org/packages/d2/05/e6600db80270777c4a64238a98d442f0fd07cc8915be2a1c16da7f2b9e74/sympy-1.12-py3-none-any.whl\n",
      "Downloading py3-none-any.whl file for typing-extensions from: https://files.pythonhosted.org/packages/b7/f4/6a90020cd2d93349b442bfcb657d0dc91eee65491600b2cb1d388bc98e6b/typing_extensions-4.9.0-py3-none-any.whl\n",
      "Downloading py3-none-any.whl file for filelock from: https://files.pythonhosted.org/packages/81/54/84d42a0bee35edba99dee7b59a8d4970eccdd44b99fe728ed912106fc781/filelock-3.13.1-py3-none-any.whl\n",
      "Downloading cp311-win_amd64.whl file for pandas from: https://files.pythonhosted.org/packages/11/17/fb1a34f3e73debbc2fd15a01ea17eaab3717943d08463ff4979a4f024b3f/pandas-2.1.4-cp311-cp311-win_amd64.whl\n",
      "Downloading py3-none-any.whl file for pyparsing from: https://files.pythonhosted.org/packages/39/92/8486ede85fcc088f1b3dba4ce92dd29d126fd96b0008ea213167940a2475/pyparsing-3.1.1-py3-none-any.whl\n",
      "Downloading py3-none-any.whl file for tzdata from: https://files.pythonhosted.org/packages/d5/fb/a79efcab32b8a1f1ddca7f35109a50e4a80d42ac1c9187ab46522b2407d7/tzdata-2023.3-py2.py3-none-any.whl\n",
      "Downloading py3-none-any.whl file for nibabel from: https://files.pythonhosted.org/packages/c9/23/8a8cfdc318231f369a13b7d3b5ebc9d67fc9314d62056efdafb371953020/nibabel-5.2.0-py3-none-any.whl\n",
      "Downloading py3-none-any.whl file for threadpoolctl from: https://files.pythonhosted.org/packages/81/12/fd4dea011af9d69e1cad05c75f3f7202cdcbeac9b712eea58ca779a72865/threadpoolctl-3.2.0-py3-none-any.whl\n",
      "Downloading py3-none-any.whl file for packaging from: https://files.pythonhosted.org/packages/ec/1a/610693ac4ee14fcdf2d9bf3c493370e4f2ef7ae2e19217d7a237ff42367d/packaging-23.2-py3-none-any.whl\n",
      "Downloading py3-none-any.whl file for networkx from: https://files.pythonhosted.org/packages/d5/f0/8fbc882ca80cf077f1b246c0e3c3465f7f415439bdea6b899f6b19f61f70/networkx-3.2.1-py3-none-any.whl\n",
      "Downloading cp311-win_amd64.whl file for kiwisolver from: https://files.pythonhosted.org/packages/1e/37/d3c2d4ba2719059a0f12730947bbe1ad5ee8bff89e8c35319dcb2c9ddb4c/kiwisolver-1.4.5-cp311-cp311-win_amd64.whl\n",
      "Downloading py3-none-any.whl file for python-dateutil from: https://files.pythonhosted.org/packages/36/7a/87837f39d0296e723bb9b62bbb257d0355c7f6128853c78955f57342a56d/python_dateutil-2.8.2-py2.py3-none-any.whl\n",
      "Downloading py3-none-any.whl file for pytz from: https://files.pythonhosted.org/packages/32/4d/aaf7eff5deb402fd9a24a1449a8119f00d74ae9c2efa79f8ef9994261fc2/pytz-2023.3.post1-py2.py3-none-any.whl\n",
      "Downloading py3-none-any.whl file for fsspec from: https://files.pythonhosted.org/packages/70/25/fab23259a52ece5670dcb8452e1af34b89e6135ecc17cd4b54b4b479eac6/fsspec-2023.12.2-py3-none-any.whl\n"
     ]
    }
   ],
   "source": [
    "# Configure Edge for Selenium with automatic download settings\n",
    "options = Options()\n",
    "options.use_chromium = True\n",
    "prefs = {\n",
    "    \"download.default_directory\": os.path.abspath(dossier_local),\n",
    "    \"download.prompt_for_download\": False,\n",
    "    \"download.directory_upgrade\": True,\n",
    "    \"safebrowsing.enabled\": True\n",
    "}\n",
    "options.add_experimental_option(\"prefs\", prefs)\n",
    "\n",
    "# Initialize the Edge driver\n",
    "edge_service = Service('C:/Users/benysar/Documents/edgedriver_win64/msedgedriver.exe')  \n",
    "driver = webdriver.Edge(service=edge_service, options=options)\n",
    "\n",
    "# Example usage\n",
    "for package in list(set(packages_to_download)):\n",
    "    download_whl_files(package, driver, dossier_local)\n",
    "driver.quit()"
   ]
  }
 ],
 "metadata": {
  "kernelspec": {
   "display_name": "Python 3.11.6 64-bit",
   "language": "python",
   "name": "python3"
  },
  "language_info": {
   "codemirror_mode": {
    "name": "ipython",
    "version": 3
   },
   "file_extension": ".py",
   "mimetype": "text/x-python",
   "name": "python",
   "nbconvert_exporter": "python",
   "pygments_lexer": "ipython3",
   "version": "3.11.6"
  },
  "orig_nbformat": 4,
  "vscode": {
   "interpreter": {
    "hash": "3408b9d0ef3ce5c7e111b1a90dc1fe87a52c80be0f3e1354ae85d9d26a4a01e4"
   }
  }
 },
 "nbformat": 4,
 "nbformat_minor": 2
}
